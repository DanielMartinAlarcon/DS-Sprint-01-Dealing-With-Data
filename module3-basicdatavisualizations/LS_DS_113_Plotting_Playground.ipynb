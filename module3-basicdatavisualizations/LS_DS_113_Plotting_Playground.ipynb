{
  "nbformat": 4,
  "nbformat_minor": 0,
  "metadata": {
    "colab": {
      "name": "LS DS 113 Plotting Playground.ipynb",
      "version": "0.3.2",
      "provenance": [],
      "include_colab_link": true
    },
    "kernelspec": {
      "name": "python3",
      "display_name": "Python 3"
    }
  },
  "cells": [
    {
      "cell_type": "markdown",
      "metadata": {
        "id": "view-in-github",
        "colab_type": "text"
      },
      "source": [
        "<a href=\"https://colab.research.google.com/github/DanielMartinAlarcon/DS-Sprint-01-Dealing-With-Data/blob/master/module3-basicdatavisualizations/LS_DS_113_Plotting_Playground.ipynb\" target=\"_parent\"><img src=\"https://colab.research.google.com/assets/colab-badge.svg\" alt=\"Open In Colab\"/></a>"
      ]
    },
    {
      "metadata": {
        "id": "hELAZLo55VUO",
        "colab_type": "text"
      },
      "cell_type": "markdown",
      "source": [
        "# Original examples"
      ]
    },
    {
      "metadata": {
        "id": "IG1v46jnGkax",
        "colab_type": "code",
        "colab": {}
      },
      "cell_type": "code",
      "source": [
        "# https://matplotlib.org/gallery/lines_bars_and_markers/barh.html#sphx-glr-gallery-lines-bars-and-markers-barh-py\n",
        "import matplotlib.pyplot as plt\n",
        "import numpy as np\n",
        "\n",
        "# Fixing random state for reproducibility\n",
        "np.random.seed(19680801)\n",
        "\n",
        "\n",
        "plt.rcdefaults()\n",
        "fig, ax = plt.subplots()\n",
        "\n",
        "# Example data\n",
        "people = ('Tom', 'Dick', 'Harry', 'Slim', 'Jim')\n",
        "y_pos = np.arange(len(people))\n",
        "performance = 3 + 10 * np.random.rand(len(people))\n",
        "error = np.random.rand(len(people))\n",
        "\n",
        "ax.barh(y_pos, performance, xerr=error, align='center',\n",
        "        color='green', ecolor='black')\n",
        "ax.set_yticks(y_pos)\n",
        "ax.set_yticklabels(people)\n",
        "ax.invert_yaxis()  # labels read top-to-bottom\n",
        "ax.set_xlabel('Performance')\n",
        "ax.set_title('How fast do you want to go today?')\n",
        "\n",
        "plt.show()"
      ],
      "execution_count": 0,
      "outputs": []
    },
    {
      "metadata": {
        "id": "DWcnKAt4H9PT",
        "colab_type": "code",
        "colab": {}
      },
      "cell_type": "code",
      "source": [
        "# Adapted to piechart\n",
        "# https://matplotlib.org/gallery/pie_and_polar_charts/pie_features.html#sphx-glr-gallery-pie-and-polar-charts-pie-features-py\n",
        "\n",
        "import matplotlib.pyplot as plt\n",
        "import numpy as np\n",
        "\n",
        "# Fixing random state for reproducibility\n",
        "np.random.seed(19680801)\n",
        "\n",
        "\n",
        "plt.rcdefaults()\n",
        "fig, ax = plt.subplots()\n",
        "\n",
        "# Example data\n",
        "people = ('Tom', 'Dick', 'Harry', 'Slim', 'Jim')\n",
        "performance = 3 + 10 * np.random.rand(len(people))\n",
        "error = np.random.rand(len(people))\n",
        "\n",
        "ax.pie(performance, labels=people)\n",
        "ax.set_title('How fast do you want to go today?')\n",
        "\n",
        "plt.show()\n"
      ],
      "execution_count": 0,
      "outputs": []
    },
    {
      "metadata": {
        "id": "Y26IktTfIZmO",
        "colab_type": "code",
        "colab": {}
      },
      "cell_type": "code",
      "source": [
        "# https://matplotlib.org/gallery/lines_bars_and_markers/scatter_demo2.html#sphx-glr-gallery-lines-bars-and-markers-scatter-demo2-py\n",
        "import numpy as np\n",
        "import matplotlib.pyplot as plt\n",
        "import matplotlib.cbook as cbook\n",
        "\n",
        "# Load a numpy record array from yahoo csv data with fields date, open, close,\n",
        "# volume, adj_close from the mpl-data/example directory. The record array\n",
        "# stores the date as an np.datetime64 with a day unit ('D') in the date column.\n",
        "with cbook.get_sample_data('goog.npz') as datafile:\n",
        "    price_data = np.load(datafile)['price_data'].view(np.recarray)\n",
        "price_data = price_data[-250:]  # get the most recent 250 trading days\n",
        "\n",
        "delta1 = np.diff(price_data.adj_close) / price_data.adj_close[:-1]\n",
        "\n",
        "# Marker size in units of points^2\n",
        "volume = (15 * price_data.volume[:-2] / price_data.volume[0])**2\n",
        "close = 0.003 * price_data.close[:-2] / 0.003 * price_data.open[:-2]\n",
        "\n",
        "fig, ax = plt.subplots()\n",
        "ax.scatter(delta1[:-1], delta1[1:], c=close, s=volume, alpha=0.5)\n",
        "\n",
        "ax.set_xlabel(r'$\\Delta_i$', fontsize=15)\n",
        "ax.set_ylabel(r'$\\Delta_{i+1}$', fontsize=15)\n",
        "ax.set_title('Volume and percent change')\n",
        "\n",
        "ax.grid(True)\n",
        "fig.tight_layout()\n",
        "\n",
        "plt.show()"
      ],
      "execution_count": 0,
      "outputs": []
    },
    {
      "metadata": {
        "id": "DaEiVQD2K0T1",
        "colab_type": "code",
        "colab": {}
      },
      "cell_type": "code",
      "source": [
        "# https://matplotlib.org/gallery/mplot3d/scatter3d.html#sphx-glr-gallery-mplot3d-scatter3d-py\n",
        "# This import registers the 3D projection, but is otherwise unused.\n",
        "from mpl_toolkits.mplot3d import Axes3D  # noqa: F401 unused import\n",
        "\n",
        "import matplotlib.pyplot as plt\n",
        "import numpy as np\n",
        "\n",
        "# Fixing random state for reproducibility\n",
        "np.random.seed(19680801)\n",
        "\n",
        "\n",
        "def randrange(n, vmin, vmax):\n",
        "    '''\n",
        "    Helper function to make an array of random numbers having shape (n, )\n",
        "    with each number distributed Uniform(vmin, vmax).\n",
        "    '''\n",
        "    return (vmax - vmin)*np.random.rand(n) + vmin\n",
        "\n",
        "fig = plt.figure()\n",
        "ax = fig.add_subplot(111, projection='3d')\n",
        "\n",
        "n = 100\n",
        "\n",
        "# For each set of style and range settings, plot n random points in the box\n",
        "# defined by x in [23, 32], y in [0, 100], z in [zlow, zhigh].\n",
        "for c, m, zlow, zhigh in [('r', 'o', -50, -25), ('b', '^', -30, -5)]:\n",
        "    xs = randrange(n, 23, 32)\n",
        "    ys = randrange(n, 0, 100)\n",
        "    zs = randrange(n, zlow, zhigh)\n",
        "    ax.scatter(xs, ys, zs, c=c, marker=m)\n",
        "\n",
        "ax.set_xlabel('X Label')\n",
        "ax.set_ylabel('Y Label')\n",
        "ax.set_zlabel('Z Label')\n",
        "\n",
        "plt.show()"
      ],
      "execution_count": 0,
      "outputs": []
    },
    {
      "metadata": {
        "id": "dXRaXtJS5SSS",
        "colab_type": "text"
      },
      "cell_type": "markdown",
      "source": [
        "# Example from class"
      ]
    },
    {
      "metadata": {
        "id": "zdY9SqPhMJvY",
        "colab_type": "code",
        "colab": {}
      },
      "cell_type": "code",
      "source": [
        "import pandas as pd\n",
        "import numpy as np\n",
        "import matplotlib.pyplot as plt\n",
        "\n",
        "pd.set_option('display.height', 1000)\n",
        "pd.set_option('display.max_rows', 500)\n",
        "pd.set_option('display.max_columns', 500)\n",
        "pd.set_option('display.width', 1000)\n",
        "\n",
        "water_treatment_url = 'https://archive.ics.uci.edu/ml/machine-learning-databases/water-treatment/water-treatment.data'\n",
        "water = pd.read_csv(water_treatment_url, header=None)\n",
        "water.replace('?',np.nan, inplace=True)\n",
        "water.head()"
      ],
      "execution_count": 0,
      "outputs": []
    },
    {
      "metadata": {
        "id": "02mt_9taK6FT",
        "colab_type": "code",
        "colab": {}
      },
      "cell_type": "code",
      "source": [
        "plt.scatter(water[15],water[16]);\n"
      ],
      "execution_count": 0,
      "outputs": []
    },
    {
      "metadata": {
        "id": "2P3aAFmZOFBQ",
        "colab_type": "code",
        "colab": {}
      },
      "cell_type": "code",
      "source": [
        "grouped_data = list(water[15].groupby(water[16]))\n",
        "plt.boxplot([group for name, group in grouped_data]);"
      ],
      "execution_count": 0,
      "outputs": []
    },
    {
      "metadata": {
        "id": "8iiphw1_QBTh",
        "colab_type": "code",
        "colab": {}
      },
      "cell_type": "code",
      "source": [
        "# Let's try to make the boxplot look nicer\n",
        "boxplot_data = [group for name, group in grouped_data]\n",
        "\n",
        "fig, ax1 = plt.subplots(figsize=(10, 6))\n",
        "ax1.set_title('Water conducivity by pH')\n",
        "bp = plt.boxplot(boxplot_data, sym='k.', whis=1.5, showfliers=True)\n",
        "# TODO good things\n",
        "\n",
        "\n",
        "\n",
        "plt.show()"
      ],
      "execution_count": 0,
      "outputs": []
    },
    {
      "metadata": {
        "id": "05zih1KMR-kE",
        "colab_type": "code",
        "colab": {}
      },
      "cell_type": "code",
      "source": [
        ""
      ],
      "execution_count": 0,
      "outputs": []
    },
    {
      "metadata": {
        "id": "XQA-UvVQ5c3F",
        "colab_type": "text"
      },
      "cell_type": "markdown",
      "source": [
        "# Assignment\n",
        "Make three different plots "
      ]
    },
    {
      "metadata": {
        "id": "0AgMT9WFbEqn",
        "colab_type": "text"
      },
      "cell_type": "markdown",
      "source": [
        "## Setting up the dataset"
      ]
    },
    {
      "metadata": {
        "id": "FDje5QVs5oy1",
        "colab_type": "code",
        "colab": {
          "base_uri": "https://localhost:8080/",
          "height": 430
        },
        "outputId": "26b64a5b-6e59-461f-a4e5-eb109224b83d"
      },
      "cell_type": "code",
      "source": [
        "# This cell contains all the code from yesterday.\n",
        "\n",
        "import pandas as pd\n",
        "import numpy as np\n",
        "import matplotlib.pyplot as plt\n",
        "\n",
        "pd.set_option('display.height', 1000)\n",
        "pd.set_option('display.max_rows', 500)\n",
        "pd.set_option('display.max_columns', 500)\n",
        "pd.set_option('display.width', 1000)\n",
        "\n",
        "bands_url = 'https://archive.ics.uci.edu/ml/machine-learning-databases/cylinder-bands/bands.data'\n",
        "bands_raw = pd.read_csv(bands_url, header=None)\n",
        "bands_raw2 = bands_raw.replace('?', np.nan)\n",
        "col_names = ['timestamp','cylinder number','customer','job number','grain screened','ink color','proof on ctd ink','blade mfg','cylinder division','paper type','ink type','direct steam','solvent type','type on cylinder','press type','press','unit number','cylinder size','paper mill location','plating tank','proof cut','viscosity','caliper','ink temperature','humifity','roughness','blade pressure','varnish pct','press speed','ink pct','solvent pct','ESA Voltage','ESA Amperage','wax','hardener','roller durometer','current density','anode space ratio','chrome content','band type']\n",
        "data_types = ['numeric','nominal','nominal','nominal','nominal','nominal',' nominal','nominal','nominal','nominal','nominal','nominal','nominal',' nominal','nominal','nominal','nominal','nominal','nominal','nominal','numeric','numeric','numeric','numeric','numeric','numeric','numeric','numeric','numeric','numeric','numeric','numeric','numeric','numeric ',' numeric',' numeric',' numeric',' numeric','numeric','nominal']\n",
        "bands_raw2.columns = col_names\n",
        "\n",
        "bands = bands_raw2.copy()\n",
        "for col in bands_raw2.columns:\n",
        "  the_mode = bands[col].mode()[0]\n",
        "  bands[col].fillna(the_mode, inplace=True)\n",
        "  \n",
        "  \n",
        "bands.head(10)"
      ],
      "execution_count": 154,
      "outputs": [
        {
          "output_type": "execute_result",
          "data": {
            "text/html": [
              "<div>\n",
              "<style scoped>\n",
              "    .dataframe tbody tr th:only-of-type {\n",
              "        vertical-align: middle;\n",
              "    }\n",
              "\n",
              "    .dataframe tbody tr th {\n",
              "        vertical-align: top;\n",
              "    }\n",
              "\n",
              "    .dataframe thead th {\n",
              "        text-align: right;\n",
              "    }\n",
              "</style>\n",
              "<table border=\"1\" class=\"dataframe\">\n",
              "  <thead>\n",
              "    <tr style=\"text-align: right;\">\n",
              "      <th></th>\n",
              "      <th>timestamp</th>\n",
              "      <th>cylinder number</th>\n",
              "      <th>customer</th>\n",
              "      <th>job number</th>\n",
              "      <th>grain screened</th>\n",
              "      <th>ink color</th>\n",
              "      <th>proof on ctd ink</th>\n",
              "      <th>blade mfg</th>\n",
              "      <th>cylinder division</th>\n",
              "      <th>paper type</th>\n",
              "      <th>ink type</th>\n",
              "      <th>direct steam</th>\n",
              "      <th>solvent type</th>\n",
              "      <th>type on cylinder</th>\n",
              "      <th>press type</th>\n",
              "      <th>press</th>\n",
              "      <th>unit number</th>\n",
              "      <th>cylinder size</th>\n",
              "      <th>paper mill location</th>\n",
              "      <th>plating tank</th>\n",
              "      <th>proof cut</th>\n",
              "      <th>viscosity</th>\n",
              "      <th>caliper</th>\n",
              "      <th>ink temperature</th>\n",
              "      <th>humifity</th>\n",
              "      <th>roughness</th>\n",
              "      <th>blade pressure</th>\n",
              "      <th>varnish pct</th>\n",
              "      <th>press speed</th>\n",
              "      <th>ink pct</th>\n",
              "      <th>solvent pct</th>\n",
              "      <th>ESA Voltage</th>\n",
              "      <th>ESA Amperage</th>\n",
              "      <th>wax</th>\n",
              "      <th>hardener</th>\n",
              "      <th>roller durometer</th>\n",
              "      <th>current density</th>\n",
              "      <th>anode space ratio</th>\n",
              "      <th>chrome content</th>\n",
              "      <th>band type</th>\n",
              "    </tr>\n",
              "  </thead>\n",
              "  <tbody>\n",
              "    <tr>\n",
              "      <th>0</th>\n",
              "      <td>19910108</td>\n",
              "      <td>X126</td>\n",
              "      <td>TVGUIDE</td>\n",
              "      <td>25503</td>\n",
              "      <td>YES</td>\n",
              "      <td>KEY</td>\n",
              "      <td>YES</td>\n",
              "      <td>BENTON</td>\n",
              "      <td>GALLATIN</td>\n",
              "      <td>UNCOATED</td>\n",
              "      <td>UNCOATED</td>\n",
              "      <td>NO</td>\n",
              "      <td>LINE</td>\n",
              "      <td>YES</td>\n",
              "      <td>Motter94</td>\n",
              "      <td>821</td>\n",
              "      <td>2.0</td>\n",
              "      <td>TABLOID</td>\n",
              "      <td>NorthUS</td>\n",
              "      <td>1911</td>\n",
              "      <td>55</td>\n",
              "      <td>46</td>\n",
              "      <td>0.2</td>\n",
              "      <td>17</td>\n",
              "      <td>78</td>\n",
              "      <td>0.75</td>\n",
              "      <td>20</td>\n",
              "      <td>13.1</td>\n",
              "      <td>1700</td>\n",
              "      <td>50.5</td>\n",
              "      <td>36.4</td>\n",
              "      <td>0</td>\n",
              "      <td>0</td>\n",
              "      <td>2.5</td>\n",
              "      <td>1</td>\n",
              "      <td>34</td>\n",
              "      <td>40</td>\n",
              "      <td>105</td>\n",
              "      <td>100</td>\n",
              "      <td>band</td>\n",
              "    </tr>\n",
              "    <tr>\n",
              "      <th>1</th>\n",
              "      <td>19910109</td>\n",
              "      <td>X266</td>\n",
              "      <td>TVGUIDE</td>\n",
              "      <td>25503</td>\n",
              "      <td>YES</td>\n",
              "      <td>KEY</td>\n",
              "      <td>YES</td>\n",
              "      <td>BENTON</td>\n",
              "      <td>GALLATIN</td>\n",
              "      <td>UNCOATED</td>\n",
              "      <td>UNCOATED</td>\n",
              "      <td>NO</td>\n",
              "      <td>LINE</td>\n",
              "      <td>YES</td>\n",
              "      <td>Motter94</td>\n",
              "      <td>821</td>\n",
              "      <td>2.0</td>\n",
              "      <td>TABLOID</td>\n",
              "      <td>NorthUS</td>\n",
              "      <td>1910</td>\n",
              "      <td>55</td>\n",
              "      <td>46</td>\n",
              "      <td>0.3</td>\n",
              "      <td>15</td>\n",
              "      <td>80</td>\n",
              "      <td>0.75</td>\n",
              "      <td>20</td>\n",
              "      <td>6.6</td>\n",
              "      <td>1900</td>\n",
              "      <td>54.9</td>\n",
              "      <td>38.5</td>\n",
              "      <td>0</td>\n",
              "      <td>0</td>\n",
              "      <td>2.5</td>\n",
              "      <td>0.7</td>\n",
              "      <td>34</td>\n",
              "      <td>40</td>\n",
              "      <td>105</td>\n",
              "      <td>100</td>\n",
              "      <td>noband</td>\n",
              "    </tr>\n",
              "    <tr>\n",
              "      <th>2</th>\n",
              "      <td>19910104</td>\n",
              "      <td>B7</td>\n",
              "      <td>MODMAT</td>\n",
              "      <td>47201</td>\n",
              "      <td>YES</td>\n",
              "      <td>KEY</td>\n",
              "      <td>YES</td>\n",
              "      <td>BENTON</td>\n",
              "      <td>GALLATIN</td>\n",
              "      <td>UNCOATED</td>\n",
              "      <td>COATED</td>\n",
              "      <td>NO</td>\n",
              "      <td>LINE</td>\n",
              "      <td>YES</td>\n",
              "      <td>WoodHoe70</td>\n",
              "      <td>815</td>\n",
              "      <td>9.0</td>\n",
              "      <td>CATALOG</td>\n",
              "      <td>NorthUS</td>\n",
              "      <td>1910</td>\n",
              "      <td>62</td>\n",
              "      <td>40</td>\n",
              "      <td>0.433</td>\n",
              "      <td>16</td>\n",
              "      <td>80</td>\n",
              "      <td>0.75</td>\n",
              "      <td>30</td>\n",
              "      <td>6.5</td>\n",
              "      <td>1850</td>\n",
              "      <td>53.8</td>\n",
              "      <td>39.8</td>\n",
              "      <td>0</td>\n",
              "      <td>0</td>\n",
              "      <td>2.8</td>\n",
              "      <td>0.9</td>\n",
              "      <td>40</td>\n",
              "      <td>40</td>\n",
              "      <td>103.87</td>\n",
              "      <td>100</td>\n",
              "      <td>noband</td>\n",
              "    </tr>\n",
              "    <tr>\n",
              "      <th>3</th>\n",
              "      <td>19910104</td>\n",
              "      <td>T133</td>\n",
              "      <td>MASSEY</td>\n",
              "      <td>39039</td>\n",
              "      <td>YES</td>\n",
              "      <td>KEY</td>\n",
              "      <td>YES</td>\n",
              "      <td>BENTON</td>\n",
              "      <td>GALLATIN</td>\n",
              "      <td>UNCOATED</td>\n",
              "      <td>UNCOATED</td>\n",
              "      <td>NO</td>\n",
              "      <td>LINE</td>\n",
              "      <td>YES</td>\n",
              "      <td>WoodHoe70</td>\n",
              "      <td>816</td>\n",
              "      <td>9.0</td>\n",
              "      <td>CATALOG</td>\n",
              "      <td>NorthUS</td>\n",
              "      <td>1910</td>\n",
              "      <td>52</td>\n",
              "      <td>40</td>\n",
              "      <td>0.3</td>\n",
              "      <td>16</td>\n",
              "      <td>75</td>\n",
              "      <td>0.3125</td>\n",
              "      <td>30</td>\n",
              "      <td>5.6</td>\n",
              "      <td>1467</td>\n",
              "      <td>55.6</td>\n",
              "      <td>38.8</td>\n",
              "      <td>0</td>\n",
              "      <td>0</td>\n",
              "      <td>2.5</td>\n",
              "      <td>1.3</td>\n",
              "      <td>40</td>\n",
              "      <td>40</td>\n",
              "      <td>108.06</td>\n",
              "      <td>100</td>\n",
              "      <td>noband</td>\n",
              "    </tr>\n",
              "    <tr>\n",
              "      <th>4</th>\n",
              "      <td>19910111</td>\n",
              "      <td>J34</td>\n",
              "      <td>KMART</td>\n",
              "      <td>37351</td>\n",
              "      <td>NO</td>\n",
              "      <td>KEY</td>\n",
              "      <td>YES</td>\n",
              "      <td>BENTON</td>\n",
              "      <td>GALLATIN</td>\n",
              "      <td>UNCOATED</td>\n",
              "      <td>COATED</td>\n",
              "      <td>NO</td>\n",
              "      <td>LINE</td>\n",
              "      <td>YES</td>\n",
              "      <td>WoodHoe70</td>\n",
              "      <td>816</td>\n",
              "      <td>2.0</td>\n",
              "      <td>TABLOID</td>\n",
              "      <td>NorthUS</td>\n",
              "      <td>1910</td>\n",
              "      <td>50</td>\n",
              "      <td>46</td>\n",
              "      <td>0.3</td>\n",
              "      <td>17</td>\n",
              "      <td>80</td>\n",
              "      <td>0.75</td>\n",
              "      <td>30</td>\n",
              "      <td>0</td>\n",
              "      <td>2100</td>\n",
              "      <td>57.5</td>\n",
              "      <td>42.5</td>\n",
              "      <td>5</td>\n",
              "      <td>0</td>\n",
              "      <td>2.3</td>\n",
              "      <td>0.6</td>\n",
              "      <td>35</td>\n",
              "      <td>40</td>\n",
              "      <td>106.67</td>\n",
              "      <td>100</td>\n",
              "      <td>noband</td>\n",
              "    </tr>\n",
              "    <tr>\n",
              "      <th>5</th>\n",
              "      <td>19910104</td>\n",
              "      <td>T218</td>\n",
              "      <td>MASSEY</td>\n",
              "      <td>38039</td>\n",
              "      <td>YES</td>\n",
              "      <td>KEY</td>\n",
              "      <td>YES</td>\n",
              "      <td>BENTON</td>\n",
              "      <td>GALLATIN</td>\n",
              "      <td>UNCOATED</td>\n",
              "      <td>UNCOATED</td>\n",
              "      <td>NO</td>\n",
              "      <td>LINE</td>\n",
              "      <td>YES</td>\n",
              "      <td>WoodHoe70</td>\n",
              "      <td>816</td>\n",
              "      <td>2.0</td>\n",
              "      <td>CATALOG</td>\n",
              "      <td>NorthUS</td>\n",
              "      <td>1910</td>\n",
              "      <td>50</td>\n",
              "      <td>40</td>\n",
              "      <td>0.267</td>\n",
              "      <td>16.8</td>\n",
              "      <td>76</td>\n",
              "      <td>0.4375</td>\n",
              "      <td>28</td>\n",
              "      <td>8.6</td>\n",
              "      <td>1467</td>\n",
              "      <td>53.8</td>\n",
              "      <td>37.6</td>\n",
              "      <td>5</td>\n",
              "      <td>0</td>\n",
              "      <td>2.5</td>\n",
              "      <td>0.8</td>\n",
              "      <td>40</td>\n",
              "      <td>40</td>\n",
              "      <td>103.87</td>\n",
              "      <td>100</td>\n",
              "      <td>noband</td>\n",
              "    </tr>\n",
              "    <tr>\n",
              "      <th>6</th>\n",
              "      <td>19910111</td>\n",
              "      <td>X249</td>\n",
              "      <td>ROSES</td>\n",
              "      <td>35751</td>\n",
              "      <td>NO</td>\n",
              "      <td>KEY</td>\n",
              "      <td>YES</td>\n",
              "      <td>BENTON</td>\n",
              "      <td>GALLATIN</td>\n",
              "      <td>COATED</td>\n",
              "      <td>COATED</td>\n",
              "      <td>NO</td>\n",
              "      <td>LINE</td>\n",
              "      <td>YES</td>\n",
              "      <td>Motter94</td>\n",
              "      <td>827</td>\n",
              "      <td>2.0</td>\n",
              "      <td>TABLOID</td>\n",
              "      <td>CANADIAN</td>\n",
              "      <td>1911</td>\n",
              "      <td>50</td>\n",
              "      <td>46</td>\n",
              "      <td>0.3</td>\n",
              "      <td>16.5</td>\n",
              "      <td>75</td>\n",
              "      <td>0.75</td>\n",
              "      <td>30</td>\n",
              "      <td>0</td>\n",
              "      <td>2600</td>\n",
              "      <td>62.5</td>\n",
              "      <td>37.5</td>\n",
              "      <td>6</td>\n",
              "      <td>0</td>\n",
              "      <td>2.5</td>\n",
              "      <td>0.6</td>\n",
              "      <td>30</td>\n",
              "      <td>40</td>\n",
              "      <td>106.67</td>\n",
              "      <td>100</td>\n",
              "      <td>noband</td>\n",
              "    </tr>\n",
              "    <tr>\n",
              "      <th>7</th>\n",
              "      <td>19910111</td>\n",
              "      <td>X788</td>\n",
              "      <td>ROSES</td>\n",
              "      <td>35751</td>\n",
              "      <td>NO</td>\n",
              "      <td>KEY</td>\n",
              "      <td>YES</td>\n",
              "      <td>BENTON</td>\n",
              "      <td>GALLATIN</td>\n",
              "      <td>COATED</td>\n",
              "      <td>COATED</td>\n",
              "      <td>NO</td>\n",
              "      <td>LINE</td>\n",
              "      <td>YES</td>\n",
              "      <td>Motter94</td>\n",
              "      <td>827</td>\n",
              "      <td>9.0</td>\n",
              "      <td>TABLOID</td>\n",
              "      <td>CANAdiAN</td>\n",
              "      <td>1911</td>\n",
              "      <td>50</td>\n",
              "      <td>46</td>\n",
              "      <td>0.2</td>\n",
              "      <td>16.5</td>\n",
              "      <td>75</td>\n",
              "      <td>0.75</td>\n",
              "      <td>28</td>\n",
              "      <td>0</td>\n",
              "      <td>2600</td>\n",
              "      <td>62.5</td>\n",
              "      <td>37.5</td>\n",
              "      <td>6</td>\n",
              "      <td>0</td>\n",
              "      <td>2.5</td>\n",
              "      <td>1.1</td>\n",
              "      <td>30</td>\n",
              "      <td>40</td>\n",
              "      <td>106.67</td>\n",
              "      <td>100</td>\n",
              "      <td>noband</td>\n",
              "    </tr>\n",
              "    <tr>\n",
              "      <th>8</th>\n",
              "      <td>19910112</td>\n",
              "      <td>M372</td>\n",
              "      <td>MODMAT</td>\n",
              "      <td>47201</td>\n",
              "      <td>YES</td>\n",
              "      <td>KEY</td>\n",
              "      <td>YES</td>\n",
              "      <td>BENTON</td>\n",
              "      <td>GALLATIN</td>\n",
              "      <td>UNCOATED</td>\n",
              "      <td>UNCOATED</td>\n",
              "      <td>NO</td>\n",
              "      <td>XYLOL</td>\n",
              "      <td>YES</td>\n",
              "      <td>Albert70</td>\n",
              "      <td>802</td>\n",
              "      <td>7.0</td>\n",
              "      <td>CATALOG</td>\n",
              "      <td>NorthUS</td>\n",
              "      <td>1910</td>\n",
              "      <td>50</td>\n",
              "      <td>45</td>\n",
              "      <td>0.367</td>\n",
              "      <td>12</td>\n",
              "      <td>70</td>\n",
              "      <td>0.75</td>\n",
              "      <td>60</td>\n",
              "      <td>0</td>\n",
              "      <td>1650</td>\n",
              "      <td>60.2</td>\n",
              "      <td>39.8</td>\n",
              "      <td>1.5</td>\n",
              "      <td>0</td>\n",
              "      <td>3</td>\n",
              "      <td>1</td>\n",
              "      <td>40</td>\n",
              "      <td>40</td>\n",
              "      <td>103.22</td>\n",
              "      <td>100</td>\n",
              "      <td>band</td>\n",
              "    </tr>\n",
              "    <tr>\n",
              "      <th>9</th>\n",
              "      <td>19910114</td>\n",
              "      <td>I320</td>\n",
              "      <td>CHILDCRAFT</td>\n",
              "      <td>37000</td>\n",
              "      <td>YES</td>\n",
              "      <td>KEY</td>\n",
              "      <td>YES</td>\n",
              "      <td>BENTON</td>\n",
              "      <td>GALLATIN</td>\n",
              "      <td>UNCOATED</td>\n",
              "      <td>UNCOATED</td>\n",
              "      <td>NO</td>\n",
              "      <td>LINE</td>\n",
              "      <td>YES</td>\n",
              "      <td>WoodHoe70</td>\n",
              "      <td>815</td>\n",
              "      <td>2.0</td>\n",
              "      <td>CATALOG</td>\n",
              "      <td>NorthUS</td>\n",
              "      <td>1911</td>\n",
              "      <td>65</td>\n",
              "      <td>43</td>\n",
              "      <td>0.333</td>\n",
              "      <td>16</td>\n",
              "      <td>75</td>\n",
              "      <td>1</td>\n",
              "      <td>32</td>\n",
              "      <td>22.7</td>\n",
              "      <td>1750</td>\n",
              "      <td>45.5</td>\n",
              "      <td>31.8</td>\n",
              "      <td>0</td>\n",
              "      <td>0</td>\n",
              "      <td>3</td>\n",
              "      <td>1</td>\n",
              "      <td>38</td>\n",
              "      <td>40</td>\n",
              "      <td>106.66</td>\n",
              "      <td>100</td>\n",
              "      <td>noband</td>\n",
              "    </tr>\n",
              "  </tbody>\n",
              "</table>\n",
              "</div>"
            ],
            "text/plain": [
              "  timestamp cylinder number    customer job number grain screened ink color proof on ctd ink blade mfg cylinder division paper type  ink type direct steam solvent type type on cylinder press type press  unit number cylinder size paper mill location plating tank proof cut viscosity caliper ink temperature humifity roughness blade pressure varnish pct press speed ink pct solvent pct ESA Voltage ESA Amperage  wax hardener roller durometer current density anode space ratio chrome content band type\n",
              "0  19910108            X126     TVGUIDE      25503            YES       KEY              YES    BENTON          GALLATIN   UNCOATED  UNCOATED           NO         LINE              YES   Motter94   821          2.0       TABLOID             NorthUS         1911        55        46     0.2              17       78      0.75             20        13.1        1700    50.5        36.4           0            0  2.5        1               34              40               105            100      band\n",
              "1  19910109            X266     TVGUIDE      25503            YES       KEY              YES    BENTON          GALLATIN   UNCOATED  UNCOATED           NO         LINE              YES   Motter94   821          2.0       TABLOID             NorthUS         1910        55        46     0.3              15       80      0.75             20         6.6        1900    54.9        38.5           0            0  2.5      0.7               34              40               105            100    noband\n",
              "2  19910104              B7      MODMAT      47201            YES       KEY              YES    BENTON          GALLATIN   UNCOATED    COATED           NO         LINE              YES  WoodHoe70   815          9.0       CATALOG             NorthUS         1910        62        40   0.433              16       80      0.75             30         6.5        1850    53.8        39.8           0            0  2.8      0.9               40              40            103.87            100    noband\n",
              "3  19910104            T133      MASSEY      39039            YES       KEY              YES    BENTON          GALLATIN   UNCOATED  UNCOATED           NO         LINE              YES  WoodHoe70   816          9.0       CATALOG             NorthUS         1910        52        40     0.3              16       75    0.3125             30         5.6        1467    55.6        38.8           0            0  2.5      1.3               40              40            108.06            100    noband\n",
              "4  19910111             J34       KMART      37351             NO       KEY              YES    BENTON          GALLATIN   UNCOATED    COATED           NO         LINE              YES  WoodHoe70   816          2.0       TABLOID             NorthUS         1910        50        46     0.3              17       80      0.75             30           0        2100    57.5        42.5           5            0  2.3      0.6               35              40            106.67            100    noband\n",
              "5  19910104            T218      MASSEY      38039            YES       KEY              YES    BENTON          GALLATIN   UNCOATED  UNCOATED           NO         LINE              YES  WoodHoe70   816          2.0       CATALOG             NorthUS         1910        50        40   0.267            16.8       76    0.4375             28         8.6        1467    53.8        37.6           5            0  2.5      0.8               40              40            103.87            100    noband\n",
              "6  19910111            X249       ROSES      35751             NO       KEY              YES    BENTON          GALLATIN     COATED    COATED           NO         LINE              YES   Motter94   827          2.0       TABLOID            CANADIAN         1911        50        46     0.3            16.5       75      0.75             30           0        2600    62.5        37.5           6            0  2.5      0.6               30              40            106.67            100    noband\n",
              "7  19910111            X788       ROSES      35751             NO       KEY              YES    BENTON          GALLATIN     COATED    COATED           NO         LINE              YES   Motter94   827          9.0       TABLOID            CANAdiAN         1911        50        46     0.2            16.5       75      0.75             28           0        2600    62.5        37.5           6            0  2.5      1.1               30              40            106.67            100    noband\n",
              "8  19910112            M372      MODMAT      47201            YES       KEY              YES    BENTON          GALLATIN   UNCOATED  UNCOATED           NO        XYLOL              YES   Albert70   802          7.0       CATALOG             NorthUS         1910        50        45   0.367              12       70      0.75             60           0        1650    60.2        39.8         1.5            0    3        1               40              40            103.22            100      band\n",
              "9  19910114            I320  CHILDCRAFT      37000            YES       KEY              YES    BENTON          GALLATIN   UNCOATED  UNCOATED           NO         LINE              YES  WoodHoe70   815          2.0       CATALOG             NorthUS         1911        65        43   0.333              16       75         1             32        22.7        1750    45.5        31.8           0            0    3        1               38              40            106.66            100    noband"
            ]
          },
          "metadata": {
            "tags": []
          },
          "execution_count": 154
        }
      ]
    },
    {
      "metadata": {
        "id": "hX1pDYt75nTP",
        "colab_type": "text"
      },
      "cell_type": "markdown",
      "source": [
        "## Bar chart\n",
        "In this case, of all the paper mill locations in yesterday's dataset."
      ]
    },
    {
      "metadata": {
        "id": "uDvmWn9K-tqs",
        "colab_type": "code",
        "colab": {
          "base_uri": "https://localhost:8080/",
          "height": 51
        },
        "outputId": "01b89420-c7d9-40c2-c603-d6f0e6123c88"
      },
      "cell_type": "code",
      "source": [
        "# First, let's see how many of them there are.\n",
        "bands['paper mill location'].unique()"
      ],
      "execution_count": 155,
      "outputs": [
        {
          "output_type": "execute_result",
          "data": {
            "text/plain": [
              "array(['NorthUS', 'CANADIAN', 'CANAdiAN', 'SCANDANAVIAN', 'SouthUS',\n",
              "       'mideuropean'], dtype=object)"
            ]
          },
          "metadata": {
            "tags": []
          },
          "execution_count": 155
        }
      ]
    },
    {
      "metadata": {
        "id": "_wA6V9WiGkmE",
        "colab_type": "code",
        "colab": {
          "base_uri": "https://localhost:8080/",
          "height": 51
        },
        "outputId": "eea7ab42-3083-402b-cc26-7f04523c5dde"
      },
      "cell_type": "code",
      "source": [
        "# Looks like they have a typo in some of their Canadian labels. I'll fix that.\n",
        "bands.replace('CANAdiAN', 'CANADIAN', inplace=True)\n",
        "bands['paper mill location'].unique()"
      ],
      "execution_count": 156,
      "outputs": [
        {
          "output_type": "execute_result",
          "data": {
            "text/plain": [
              "array(['NorthUS', 'CANADIAN', 'SCANDANAVIAN', 'SouthUS', 'mideuropean'],\n",
              "      dtype=object)"
            ]
          },
          "metadata": {
            "tags": []
          },
          "execution_count": 156
        }
      ]
    },
    {
      "metadata": {
        "id": "_8ic8Y2VG9cm",
        "colab_type": "code",
        "colab": {
          "base_uri": "https://localhost:8080/",
          "height": 136
        },
        "outputId": "9bea1e31-d3ee-4c4f-f1d3-20238b790ca4"
      },
      "cell_type": "code",
      "source": [
        "# I use groupby to figure out how many items are at each location\n",
        "mills = bands.groupby('paper mill location').size()\n",
        "mills"
      ],
      "execution_count": 157,
      "outputs": [
        {
          "output_type": "execute_result",
          "data": {
            "text/plain": [
              "paper mill location\n",
              "CANADIAN        159\n",
              "NorthUS         346\n",
              "SCANDANAVIAN     13\n",
              "SouthUS           8\n",
              "mideuropean      15\n",
              "dtype: int64"
            ]
          },
          "metadata": {
            "tags": []
          },
          "execution_count": 157
        }
      ]
    },
    {
      "metadata": {
        "id": "VTtFPMPqHybJ",
        "colab_type": "code",
        "colab": {
          "base_uri": "https://localhost:8080/",
          "height": 51
        },
        "outputId": "85f97520-466e-4dd1-a373-5f8879e60afa"
      },
      "cell_type": "code",
      "source": [
        "# I turn the keys and values from this series into lists for plotting.\n",
        "x = mills.index.tolist()\n",
        "y = mills.values.tolist()\n",
        "print(x)\n",
        "print(y)"
      ],
      "execution_count": 158,
      "outputs": [
        {
          "output_type": "stream",
          "text": [
            "['CANADIAN', 'NorthUS', 'SCANDANAVIAN', 'SouthUS', 'mideuropean']\n",
            "[159, 346, 13, 8, 15]\n"
          ],
          "name": "stdout"
        }
      ]
    },
    {
      "metadata": {
        "id": "SqrMZRlpLdg1",
        "colab_type": "code",
        "colab": {
          "base_uri": "https://localhost:8080/",
          "height": 376
        },
        "outputId": "f859df80-6fda-408f-b450-ee79164cf54e"
      },
      "cell_type": "code",
      "source": [
        "# And now... we plot!\n",
        "fig, ax = plt.subplots()\n",
        "\n",
        "ax.bar(x,y);\n",
        "ax.set_ylabel('Number of Cylinder Bands')\n",
        "ax.set_xlabel('Paper Mill Location')\n",
        "ax.set_title('Bands vs Mills');\n"
      ],
      "execution_count": 159,
      "outputs": [
        {
          "output_type": "display_data",
          "data": {
            "image/png": "[encoded data removed]",
            "text/plain": [
              "<matplotlib.figure.Figure at 0x7fae124691d0>"
            ]
          },
          "metadata": {
            "tags": []
          }
        }
      ]
    },
    {
      "metadata": {
        "id": "r-uTNaiDOEKJ",
        "colab_type": "text"
      },
      "cell_type": "markdown",
      "source": [
        "## Histogram\n",
        "Let's look at the column 'solvent pct', which looks like it might be continuous."
      ]
    },
    {
      "metadata": {
        "id": "qdkevcbRPEOg",
        "colab_type": "code",
        "colab": {
          "base_uri": "https://localhost:8080/",
          "height": 102
        },
        "outputId": "bbbf49a8-2de5-4d9a-9b54-b22746db1a8d"
      },
      "cell_type": "code",
      "source": [
        "bands['solvent pct'].describe()"
      ],
      "execution_count": 160,
      "outputs": [
        {
          "output_type": "execute_result",
          "data": {
            "text/plain": [
              "count      541\n",
              "unique     116\n",
              "top       41.2\n",
              "freq       146\n",
              "Name: solvent pct, dtype: object"
            ]
          },
          "metadata": {
            "tags": []
          },
          "execution_count": 160
        }
      ]
    },
    {
      "metadata": {
        "id": "6ebv7jmGVIQe",
        "colab_type": "code",
        "colab": {
          "base_uri": "https://localhost:8080/",
          "height": 297
        },
        "outputId": "6e1697e3-1269-4661-8515-d31e2df22351"
      },
      "cell_type": "code",
      "source": [
        "''' Why the hell are the summary statistics not working?  I should see mean/median/etc\n",
        "\n",
        "I later realized \n",
        "that all these numbers were actually stored as strings.  So I actually have to \n",
        "first turn them all into floats.\n",
        "'''\n",
        "solvent = [float(x) for x in bands['solvent pct']]\n",
        "\n",
        "#I'll turn this list into a dataframe so that I can run df.describe() on it.\n",
        "solvent_df = pd.DataFrame(solvent)\n",
        "solvent_df.describe()"
      ],
      "execution_count": 161,
      "outputs": [
        {
          "output_type": "execute_result",
          "data": {
            "text/html": [
              "<div>\n",
              "<style scoped>\n",
              "    .dataframe tbody tr th:only-of-type {\n",
              "        vertical-align: middle;\n",
              "    }\n",
              "\n",
              "    .dataframe tbody tr th {\n",
              "        vertical-align: top;\n",
              "    }\n",
              "\n",
              "    .dataframe thead th {\n",
              "        text-align: right;\n",
              "    }\n",
              "</style>\n",
              "<table border=\"1\" class=\"dataframe\">\n",
              "  <thead>\n",
              "    <tr style=\"text-align: right;\">\n",
              "      <th></th>\n",
              "      <th>0</th>\n",
              "    </tr>\n",
              "  </thead>\n",
              "  <tbody>\n",
              "    <tr>\n",
              "      <th>count</th>\n",
              "      <td>541.000000</td>\n",
              "    </tr>\n",
              "    <tr>\n",
              "      <th>mean</th>\n",
              "      <td>38.844991</td>\n",
              "    </tr>\n",
              "    <tr>\n",
              "      <th>std</th>\n",
              "      <td>3.408851</td>\n",
              "    </tr>\n",
              "    <tr>\n",
              "      <th>min</th>\n",
              "      <td>22.000000</td>\n",
              "    </tr>\n",
              "    <tr>\n",
              "      <th>25%</th>\n",
              "      <td>36.900000</td>\n",
              "    </tr>\n",
              "    <tr>\n",
              "      <th>50%</th>\n",
              "      <td>39.100000</td>\n",
              "    </tr>\n",
              "    <tr>\n",
              "      <th>75%</th>\n",
              "      <td>41.200000</td>\n",
              "    </tr>\n",
              "    <tr>\n",
              "      <th>max</th>\n",
              "      <td>53.400000</td>\n",
              "    </tr>\n",
              "  </tbody>\n",
              "</table>\n",
              "</div>"
            ],
            "text/plain": [
              "                0\n",
              "count  541.000000\n",
              "mean    38.844991\n",
              "std      3.408851\n",
              "min     22.000000\n",
              "25%     36.900000\n",
              "50%     39.100000\n",
              "75%     41.200000\n",
              "max     53.400000"
            ]
          },
          "metadata": {
            "tags": []
          },
          "execution_count": 161
        }
      ]
    },
    {
      "metadata": {
        "id": "Fcap4FduPM_X",
        "colab_type": "code",
        "colab": {
          "base_uri": "https://localhost:8080/",
          "height": 376
        },
        "outputId": "2b87d324-0e46-4579-f223-31b5aec42506"
      },
      "cell_type": "code",
      "source": [
        "# And now we can plot this\n",
        "fig, ax = plt.subplots()\n",
        "ax.hist(solvent,bins=30);\n",
        "\n",
        "ax.set_xlabel('Solvent Percent')\n",
        "ax.set_ylabel('Counts')\n",
        "ax.set_title('Histogram of Solvent Percent');"
      ],
      "execution_count": 162,
      "outputs": [
        {
          "output_type": "display_data",
          "data": {
            "image/png": "[encoded data removed]",
            "text/plain": [
              "<matplotlib.figure.Figure at 0x7fae1247c4a8>"
            ]
          },
          "metadata": {
            "tags": []
          }
        }
      ]
    },
    {
      "metadata": {
        "id": "Qs0vvxwPZd2Q",
        "colab_type": "text"
      },
      "cell_type": "markdown",
      "source": [
        "## Scatterplot\n",
        "Is there any correlation between solvent percent and varnish percent?"
      ]
    },
    {
      "metadata": {
        "id": "nQRYyrHAZkT_",
        "colab_type": "code",
        "colab": {
          "base_uri": "https://localhost:8080/",
          "height": 297
        },
        "outputId": "5952f39e-a00a-49ce-8cc3-89b19d40d56e"
      },
      "cell_type": "code",
      "source": [
        "# First, let's look at the varnish column and process it the same way as solvent.\n",
        "varnish = [float(x) for x in bands['varnish pct']]\n",
        "\n",
        "#I'll turn this list into a dataframe so that I can run df.describe() on it.\n",
        "varnish_df = pd.DataFrame(varnish)\n",
        "varnish_df.describe()"
      ],
      "execution_count": 163,
      "outputs": [
        {
          "output_type": "execute_result",
          "data": {
            "text/html": [
              "<div>\n",
              "<style scoped>\n",
              "    .dataframe tbody tr th:only-of-type {\n",
              "        vertical-align: middle;\n",
              "    }\n",
              "\n",
              "    .dataframe tbody tr th {\n",
              "        vertical-align: top;\n",
              "    }\n",
              "\n",
              "    .dataframe thead th {\n",
              "        text-align: right;\n",
              "    }\n",
              "</style>\n",
              "<table border=\"1\" class=\"dataframe\">\n",
              "  <thead>\n",
              "    <tr style=\"text-align: right;\">\n",
              "      <th></th>\n",
              "      <th>0</th>\n",
              "    </tr>\n",
              "  </thead>\n",
              "  <tbody>\n",
              "    <tr>\n",
              "      <th>count</th>\n",
              "      <td>541.000000</td>\n",
              "    </tr>\n",
              "    <tr>\n",
              "      <th>mean</th>\n",
              "      <td>5.171534</td>\n",
              "    </tr>\n",
              "    <tr>\n",
              "      <th>std</th>\n",
              "      <td>6.713364</td>\n",
              "    </tr>\n",
              "    <tr>\n",
              "      <th>min</th>\n",
              "      <td>0.000000</td>\n",
              "    </tr>\n",
              "    <tr>\n",
              "      <th>25%</th>\n",
              "      <td>0.000000</td>\n",
              "    </tr>\n",
              "    <tr>\n",
              "      <th>50%</th>\n",
              "      <td>0.500000</td>\n",
              "    </tr>\n",
              "    <tr>\n",
              "      <th>75%</th>\n",
              "      <td>9.700000</td>\n",
              "    </tr>\n",
              "    <tr>\n",
              "      <th>max</th>\n",
              "      <td>35.800000</td>\n",
              "    </tr>\n",
              "  </tbody>\n",
              "</table>\n",
              "</div>"
            ],
            "text/plain": [
              "                0\n",
              "count  541.000000\n",
              "mean     5.171534\n",
              "std      6.713364\n",
              "min      0.000000\n",
              "25%      0.000000\n",
              "50%      0.500000\n",
              "75%      9.700000\n",
              "max     35.800000"
            ]
          },
          "metadata": {
            "tags": []
          },
          "execution_count": 163
        }
      ]
    },
    {
      "metadata": {
        "id": "asy-38pKZy_S",
        "colab_type": "code",
        "colab": {
          "base_uri": "https://localhost:8080/",
          "height": 376
        },
        "outputId": "cf6e4534-5a38-4762-a88d-697df29d2ee7"
      },
      "cell_type": "code",
      "source": [
        "# The variable solvent comes from the last plot.\n",
        "x = varnish\n",
        "y = solvent\n",
        "\n",
        "fig, ax = plt.subplots()\n",
        "ax.scatter(x,y);\n",
        "\n",
        "ax.set_xlabel('Varnish Percent')\n",
        "ax.set_ylabel('Solvent Percent')\n",
        "ax.set_title('Varnish v Solvent');"
      ],
      "execution_count": 164,
      "outputs": [
        {
          "output_type": "display_data",
          "data": {
            "image/png": "[encoded data removed]",
            "text/plain": [
              "<matplotlib.figure.Figure at 0x7fae123ed908>"
            ]
          },
          "metadata": {
            "tags": []
          }
        }
      ]
    },
    {
      "metadata": {
        "id": "p_2HQN6eZ4Qb",
        "colab_type": "code",
        "colab": {}
      },
      "cell_type": "code",
      "source": [
        ""
      ],
      "execution_count": 0,
      "outputs": []
    },
    {
      "metadata": {
        "id": "gAd-aLzkdFLJ",
        "colab_type": "text"
      },
      "cell_type": "markdown",
      "source": [
        "# Stretch"
      ]
    },
    {
      "metadata": {
        "id": "WxoAG1LgdJIw",
        "colab_type": "code",
        "colab": {}
      },
      "cell_type": "code",
      "source": [
        "import seaborn as sns\n",
        "sns.set(style=\"white\", context=\"talk\")"
      ],
      "execution_count": 0,
      "outputs": []
    },
    {
      "metadata": {
        "id": "4BiiP9T_dKJw",
        "colab_type": "text"
      },
      "cell_type": "markdown",
      "source": [
        "## Bar chart"
      ]
    },
    {
      "metadata": {
        "id": "1AraNwhQdRAa",
        "colab_type": "code",
        "colab": {
          "base_uri": "https://localhost:8080/",
          "height": 531
        },
        "outputId": "fd1a01bb-6cbb-4869-c490-2a158e006a7a"
      },
      "cell_type": "code",
      "source": [
        "# Bring back the mill data from earlier\n",
        "mills = bands.groupby('paper mill location').size()\n",
        "x = mills.index.tolist()\n",
        "y = mills.values.tolist()\n",
        "\n",
        "# Plot!\n",
        "fig, ax = plt.subplots()\n",
        "sns.barplot(x=x, y=y, palette=\"deep\");\n",
        "\n",
        "ax.set_ylabel('Number of Cylinder Bands')\n",
        "ax.set_xlabel('Paper Mill Location')\n",
        "ax.set_title('Bands vs Mills');"
      ],
      "execution_count": 166,
      "outputs": [
        {
          "output_type": "stream",
          "text": [
            "/usr/local/lib/python3.6/dist-packages/seaborn/categorical.py:1428: FutureWarning: remove_na is deprecated and is a private function. Do not use.\n",
            "  stat_data = remove_na(group_data)\n"
          ],
          "name": "stderr"
        },
        {
          "output_type": "display_data",
          "data": {
            "image/png": "[encoded data removed]",
            "text/plain": [
              "<matplotlib.figure.Figure at 0x7fae12340128>"
            ]
          },
          "metadata": {
            "tags": []
          }
        }
      ]
    },
    {
      "metadata": {
        "id": "25quijH1egmK",
        "colab_type": "text"
      },
      "cell_type": "markdown",
      "source": [
        "## Histogram"
      ]
    },
    {
      "metadata": {
        "id": "B7aY2a6xeB7c",
        "colab_type": "code",
        "colab": {
          "base_uri": "https://localhost:8080/",
          "height": 477
        },
        "outputId": "4254cc1f-3f0d-4502-b662-f3c2daf40230"
      },
      "cell_type": "code",
      "source": [
        "solvent = [float(x) for x in bands['solvent pct']]\n",
        "\n",
        "fig, ax = plt.subplots()\n",
        "sns.distplot(solvent, bins=30)\n",
        "\n",
        "ax.set_xlabel('Solvent Percent')\n",
        "ax.set_ylabel('Counts')\n",
        "ax.set_title('Histogram of Solvent Percent');"
      ],
      "execution_count": 167,
      "outputs": [
        {
          "output_type": "display_data",
          "data": {
            "image/png": "[encoded data removed]",
            "text/plain": [
              "<matplotlib.figure.Figure at 0x7fae122631d0>"
            ]
          },
          "metadata": {
            "tags": []
          }
        }
      ]
    },
    {
      "metadata": {
        "id": "8w5pWGj-fFUM",
        "colab_type": "text"
      },
      "cell_type": "markdown",
      "source": [
        "## Scatterplot"
      ]
    },
    {
      "metadata": {
        "id": "jB5MDa21e-ZE",
        "colab_type": "code",
        "colab": {
          "base_uri": "https://localhost:8080/",
          "height": 297
        },
        "outputId": "18ca336a-211f-4b01-cafc-0a3121d07487"
      },
      "cell_type": "code",
      "source": [
        "# Seaborn scatterplot requires a dataframe as an input, so I'll take a slice \n",
        "# out of the original and work with that.\n",
        "\n",
        "import seaborn as sns\n",
        "varnish = [float(x) for x in bands['varnish pct']]\n",
        "solvent = [float(x) for x in bands['solvent pct']]\n",
        "\n",
        "varsol = pd.DataFrame({'varnish':varnish,\n",
        "                       'solvent':solvent})\n",
        "varsol.describe()"
      ],
      "execution_count": 170,
      "outputs": [
        {
          "output_type": "execute_result",
          "data": {
            "text/html": [
              "<div>\n",
              "<style scoped>\n",
              "    .dataframe tbody tr th:only-of-type {\n",
              "        vertical-align: middle;\n",
              "    }\n",
              "\n",
              "    .dataframe tbody tr th {\n",
              "        vertical-align: top;\n",
              "    }\n",
              "\n",
              "    .dataframe thead th {\n",
              "        text-align: right;\n",
              "    }\n",
              "</style>\n",
              "<table border=\"1\" class=\"dataframe\">\n",
              "  <thead>\n",
              "    <tr style=\"text-align: right;\">\n",
              "      <th></th>\n",
              "      <th>solvent</th>\n",
              "      <th>varnish</th>\n",
              "    </tr>\n",
              "  </thead>\n",
              "  <tbody>\n",
              "    <tr>\n",
              "      <th>count</th>\n",
              "      <td>541.000000</td>\n",
              "      <td>541.000000</td>\n",
              "    </tr>\n",
              "    <tr>\n",
              "      <th>mean</th>\n",
              "      <td>38.844991</td>\n",
              "      <td>5.171534</td>\n",
              "    </tr>\n",
              "    <tr>\n",
              "      <th>std</th>\n",
              "      <td>3.408851</td>\n",
              "      <td>6.713364</td>\n",
              "    </tr>\n",
              "    <tr>\n",
              "      <th>min</th>\n",
              "      <td>22.000000</td>\n",
              "      <td>0.000000</td>\n",
              "    </tr>\n",
              "    <tr>\n",
              "      <th>25%</th>\n",
              "      <td>36.900000</td>\n",
              "      <td>0.000000</td>\n",
              "    </tr>\n",
              "    <tr>\n",
              "      <th>50%</th>\n",
              "      <td>39.100000</td>\n",
              "      <td>0.500000</td>\n",
              "    </tr>\n",
              "    <tr>\n",
              "      <th>75%</th>\n",
              "      <td>41.200000</td>\n",
              "      <td>9.700000</td>\n",
              "    </tr>\n",
              "    <tr>\n",
              "      <th>max</th>\n",
              "      <td>53.400000</td>\n",
              "      <td>35.800000</td>\n",
              "    </tr>\n",
              "  </tbody>\n",
              "</table>\n",
              "</div>"
            ],
            "text/plain": [
              "          solvent     varnish\n",
              "count  541.000000  541.000000\n",
              "mean    38.844991    5.171534\n",
              "std      3.408851    6.713364\n",
              "min     22.000000    0.000000\n",
              "25%     36.900000    0.000000\n",
              "50%     39.100000    0.500000\n",
              "75%     41.200000    9.700000\n",
              "max     53.400000   35.800000"
            ]
          },
          "metadata": {
            "tags": []
          },
          "execution_count": 170
        }
      ]
    },
    {
      "metadata": {
        "id": "H_dZXzJNfR5H",
        "colab_type": "code",
        "colab": {
          "base_uri": "https://localhost:8080/",
          "height": 232
        },
        "outputId": "50bada30-be3c-41cb-8ec4-90732b3590b9"
      },
      "cell_type": "code",
      "source": [
        "# And now we plot\n",
        "sns.scatterplot(data=varsol);\n",
        "\n",
        "ax.set_xlabel('Varnish Percent')\n",
        "ax.set_ylabel('Solvent Percent')\n",
        "ax.set_title('Varnish v Solvent');"
      ],
      "execution_count": 171,
      "outputs": [
        {
          "output_type": "error",
          "ename": "AttributeError",
          "evalue": "ignored",
          "traceback": [
            "\u001b[0;31m---------------------------------------------------------------------------\u001b[0m",
            "\u001b[0;31mAttributeError\u001b[0m                            Traceback (most recent call last)",
            "\u001b[0;32m<ipython-input-171-ef6044e9116c>\u001b[0m in \u001b[0;36m<module>\u001b[0;34m()\u001b[0m\n\u001b[0;32m----> 1\u001b[0;31m \u001b[0msns\u001b[0m\u001b[0;34m.\u001b[0m\u001b[0mscatterplot\u001b[0m\u001b[0;34m(\u001b[0m\u001b[0mdata\u001b[0m\u001b[0;34m=\u001b[0m\u001b[0mvarsol\u001b[0m\u001b[0;34m)\u001b[0m\u001b[0;34m;\u001b[0m\u001b[0;34m\u001b[0m\u001b[0m\n\u001b[0m\u001b[1;32m      2\u001b[0m \u001b[0;34m\u001b[0m\u001b[0m\n\u001b[1;32m      3\u001b[0m \u001b[0max\u001b[0m\u001b[0;34m.\u001b[0m\u001b[0mset_xlabel\u001b[0m\u001b[0;34m(\u001b[0m\u001b[0;34m'Varnish Percent'\u001b[0m\u001b[0;34m)\u001b[0m\u001b[0;34m\u001b[0m\u001b[0m\n\u001b[1;32m      4\u001b[0m \u001b[0max\u001b[0m\u001b[0;34m.\u001b[0m\u001b[0mset_ylabel\u001b[0m\u001b[0;34m(\u001b[0m\u001b[0;34m'Solvent Percent'\u001b[0m\u001b[0;34m)\u001b[0m\u001b[0;34m\u001b[0m\u001b[0m\n\u001b[1;32m      5\u001b[0m \u001b[0max\u001b[0m\u001b[0;34m.\u001b[0m\u001b[0mset_title\u001b[0m\u001b[0;34m(\u001b[0m\u001b[0;34m'Varnish v Solvent'\u001b[0m\u001b[0;34m)\u001b[0m\u001b[0;34m;\u001b[0m\u001b[0;34m\u001b[0m\u001b[0m\n",
            "\u001b[0;31mAttributeError\u001b[0m: module 'seaborn' has no attribute 'scatterplot'"
          ]
        }
      ]
    },
    {
      "metadata": {
        "id": "jDBL4ORAh0QK",
        "colab_type": "code",
        "colab": {}
      },
      "cell_type": "code",
      "source": [
        "''' I couldn't get the damn scatterplot to work, for some reason that doesn't \n",
        "make any sense.  That type of plot DEFINITELY exists in Seaborn.\n",
        "'''\n"
      ],
      "execution_count": 0,
      "outputs": []
    },
    {
      "metadata": {
        "id": "BDM97_wfjTU5",
        "colab_type": "code",
        "colab": {}
      },
      "cell_type": "code",
      "source": [
        ""
      ],
      "execution_count": 0,
      "outputs": []
    }
  ]
}